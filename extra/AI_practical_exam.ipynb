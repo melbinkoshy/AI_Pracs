{
 "cells": [
  {
   "cell_type": "code",
   "execution_count": 15,
   "metadata": {},
   "outputs": [
    {
     "name": "stdout",
     "output_type": "stream",
     "text": [
      "(3, 3, 'left', 0, 0)\n",
      "(2, 2, 'right', 1, 1)\n",
      "(3, 2, 'left', 0, 1)\n",
      "(3, 0, 'right', 0, 3)\n",
      "(3, 1, 'left', 0, 2)\n",
      "(1, 1, 'right', 2, 2)\n",
      "(2, 2, 'left', 1, 1)\n",
      "(0, 2, 'right', 3, 1)\n",
      "(0, 3, 'left', 3, 0)\n",
      "(0, 1, 'right', 3, 2)\n",
      "(0, 2, 'left', 3, 1)\n",
      "(0, 0, 'right', 3, 3)\n"
     ]
    }
   ],
   "source": [
    "from queue import PriorityQueue\n",
    "from collections import deque\n",
    "\n",
    "def heuristic(state):\n",
    "    m_left,c_left,boat,m_right,c_right = state\n",
    "    return (m_left+c_left)//2 + (m_right+c_right)//2\n",
    "\n",
    "\n",
    "def is_valid(state):\n",
    "    m_left,c_left,boat,m_right,c_right = state\n",
    "    if(m_left<0 or m_right<0 or c_left<0 or c_right<0):\n",
    "        return False\n",
    "    if(m_left>3 or m_right>3 or c_left>3 or c_right>3):\n",
    "        return False\n",
    "    if(c_left>m_left>0 or c_right>m_right>0):\n",
    "        return False\n",
    "    \n",
    "    return True\n",
    "\n",
    "def generate_states(state):\n",
    "    m_left,c_left,boat,m_right,c_right = state\n",
    "    if(boat==\"left\"):\n",
    "        moves=[(2,0),(0,2),(1,0),(0,1),(1,1)] \n",
    "        next_states=[(m_left-m,c_left-c,'right',m_right+m,c_right+c)  for m,c in moves]\n",
    "    else:\n",
    "        moves=[[-2,0],[0,-2],[-1,0],[0,-1],[-1,-1]]\n",
    "        next_states=[(m_left-m,c_left-c,'left',m_right+m,c_right+c) for m,c in moves]\n",
    "    return [state for state in next_states if is_valid(state)]\n",
    "    \n",
    "    \n",
    "    \n",
    "    \n",
    "\n",
    "def heuristic_search(state):\n",
    "    frontier=PriorityQueue()\n",
    "    frontier.put((heuristic(state),[state]))\n",
    "    explored=set()\n",
    "    while frontier:\n",
    "        path= frontier.get()[1]\n",
    "        current_state=path[-1]\n",
    "        if (current_state == (0,0,\"right\",3,3)):\n",
    "            return path\n",
    "        for next_state in generate_states(current_state):\n",
    "            if next_state not in explored:\n",
    "                new_path = path + [next_state]\n",
    "                frontier.put((len(new_path)+heuristic(next_state),new_path))\n",
    "                explored.add(next_state)\n",
    "    return None\n",
    "\n",
    "\n",
    "if __name__==\"__main__\":\n",
    "    solution = heuristic_search((3,3,\"left\",0,0))\n",
    "    if solution:\n",
    "        for i in solution:\n",
    "            print(i)\n",
    "    else:\n",
    "        print(\"There is no solution\")\n",
    "\n"
   ]
  },
  {
   "cell_type": "code",
   "execution_count": null,
   "metadata": {},
   "outputs": [],
   "source": []
  }
 ],
 "metadata": {
  "kernelspec": {
   "display_name": "Python 3",
   "language": "python",
   "name": "python3"
  },
  "language_info": {
   "codemirror_mode": {
    "name": "ipython",
    "version": 3
   },
   "file_extension": ".py",
   "mimetype": "text/x-python",
   "name": "python",
   "nbconvert_exporter": "python",
   "pygments_lexer": "ipython3",
   "version": "3.8.10"
  }
 },
 "nbformat": 4,
 "nbformat_minor": 4
}
